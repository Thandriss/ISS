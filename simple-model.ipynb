{
 "cells": [
  {
   "cell_type": "code",
   "execution_count": 1,
   "id": "416d805a",
   "metadata": {
    "_cell_guid": "b1076dfc-b9ad-4769-8c92-a6c4dae69d19",
    "_uuid": "8f2839f25d086af736a60e9eeb907d3b93b6e0e5",
    "execution": {
     "iopub.execute_input": "2024-04-20T10:17:52.100476Z",
     "iopub.status.busy": "2024-04-20T10:17:52.100006Z",
     "iopub.status.idle": "2024-04-20T10:17:54.987367Z",
     "shell.execute_reply": "2024-04-20T10:17:54.986256Z"
    },
    "papermill": {
     "duration": 2.895377,
     "end_time": "2024-04-20T10:17:54.990036",
     "exception": false,
     "start_time": "2024-04-20T10:17:52.094659",
     "status": "completed"
    },
    "tags": []
   },
   "outputs": [],
   "source": [
    "import numpy as np \n",
    "import pandas as pd \n",
    "from sklearn import *\n",
    "from sklearn.feature_extraction.text import TfidfVectorizer\n",
    "import gc\n",
    "from sklearn.metrics import accuracy_score, f1_score, precision_score, recall_score\n",
    "from sklearn.preprocessing import StandardScaler\n",
    "from sklearn.naive_bayes import MultinomialNB\n"
   ]
  },
  {
   "cell_type": "code",
   "execution_count": 2,
   "id": "38208124",
   "metadata": {
    "execution": {
     "iopub.execute_input": "2024-04-20T10:17:54.998546Z",
     "iopub.status.busy": "2024-04-20T10:17:54.998062Z",
     "iopub.status.idle": "2024-04-20T10:17:55.003227Z",
     "shell.execute_reply": "2024-04-20T10:17:55.002191Z"
    },
    "papermill": {
     "duration": 0.011752,
     "end_time": "2024-04-20T10:17:55.005390",
     "exception": false,
     "start_time": "2024-04-20T10:17:54.993638",
     "status": "completed"
    },
    "tags": []
   },
   "outputs": [],
   "source": [
    "vector = TfidfVectorizer(decode_error='replace', encoding='utf-8')"
   ]
  },
  {
   "cell_type": "code",
   "execution_count": 3,
   "id": "257740f9",
   "metadata": {
    "execution": {
     "iopub.execute_input": "2024-04-20T10:17:55.017526Z",
     "iopub.status.busy": "2024-04-20T10:17:55.016522Z",
     "iopub.status.idle": "2024-04-20T10:17:55.022476Z",
     "shell.execute_reply": "2024-04-20T10:17:55.021317Z"
    },
    "papermill": {
     "duration": 0.016021,
     "end_time": "2024-04-20T10:17:55.024658",
     "exception": false,
     "start_time": "2024-04-20T10:17:55.008637",
     "status": "completed"
    },
    "tags": []
   },
   "outputs": [],
   "source": [
    "\n",
    "model = MultinomialNB()"
   ]
  },
  {
   "cell_type": "markdown",
   "id": "f986b45f",
   "metadata": {
    "papermill": {
     "duration": 0.002924,
     "end_time": "2024-04-20T10:17:55.030915",
     "exception": false,
     "start_time": "2024-04-20T10:17:55.027991",
     "status": "completed"
    },
    "tags": []
   },
   "source": [
    "One function"
   ]
  },
  {
   "cell_type": "code",
   "execution_count": 4,
   "id": "0e293d1e",
   "metadata": {
    "execution": {
     "iopub.execute_input": "2024-04-20T10:17:55.038888Z",
     "iopub.status.busy": "2024-04-20T10:17:55.038487Z",
     "iopub.status.idle": "2024-04-20T10:27:21.106938Z",
     "shell.execute_reply": "2024-04-20T10:27:21.105742Z"
    },
    "papermill": {
     "duration": 566.07581,
     "end_time": "2024-04-20T10:27:21.109934",
     "exception": false,
     "start_time": "2024-04-20T10:17:55.034124",
     "status": "completed"
    },
    "tags": []
   },
   "outputs": [
    {
     "name": "stdout",
     "output_type": "stream",
     "text": [
      "(247065, 555317)\n",
      "(241180, 525636)\n",
      "(248387, 537340)\n",
      "(249600, 477311)\n",
      "(248432, 471798)\n"
     ]
    }
   ],
   "source": [
    "for x in range(1,6):\n",
    "    data = pd.read_csv(f'/kaggle/input/fake-binary-reclass/reclassified_{x}.csv')\n",
    "    target = data.type\n",
    "    target = pd.concat([target], axis=1)\n",
    "    content = data.cleaned_content\n",
    "    features=pd.concat([content], axis=1)\n",
    "    X = features['cleaned_content'].astype('U').values\n",
    "    y = target['type']\n",
    "    X = vector.fit_transform(X)\n",
    "    print(X.shape)\n",
    "    model.fit(X,y)\n",
    "    gc.collect()"
   ]
  },
  {
   "cell_type": "code",
   "execution_count": 5,
   "id": "fa0c9b25",
   "metadata": {
    "execution": {
     "iopub.execute_input": "2024-04-20T10:27:21.119385Z",
     "iopub.status.busy": "2024-04-20T10:27:21.118993Z",
     "iopub.status.idle": "2024-04-20T10:28:07.012727Z",
     "shell.execute_reply": "2024-04-20T10:28:07.011738Z"
    },
    "papermill": {
     "duration": 45.901718,
     "end_time": "2024-04-20T10:28:07.015390",
     "exception": false,
     "start_time": "2024-04-20T10:27:21.113672",
     "status": "completed"
    },
    "tags": []
   },
   "outputs": [],
   "source": [
    "data_test = pd.read_csv(f'/kaggle/input/fake-binary-reclass/reclassified_7.csv')\n",
    "target = data_test['type']\n",
    "Y_test = pd.concat([target], axis=1)\n",
    "content_test = data_test['cleaned_content']\n",
    "features_test=pd.concat([content_test], axis=1)\n",
    "X_test = features_test['cleaned_content'].astype('U').values"
   ]
  },
  {
   "cell_type": "code",
   "execution_count": 6,
   "id": "d487d207",
   "metadata": {
    "execution": {
     "iopub.execute_input": "2024-04-20T10:28:07.024718Z",
     "iopub.status.busy": "2024-04-20T10:28:07.024051Z",
     "iopub.status.idle": "2024-04-20T10:28:07.031862Z",
     "shell.execute_reply": "2024-04-20T10:28:07.030739Z"
    },
    "papermill": {
     "duration": 0.014995,
     "end_time": "2024-04-20T10:28:07.034137",
     "exception": false,
     "start_time": "2024-04-20T10:28:07.019142",
     "status": "completed"
    },
    "tags": []
   },
   "outputs": [
    {
     "data": {
      "text/plain": [
       "(241667,)"
      ]
     },
     "execution_count": 6,
     "metadata": {},
     "output_type": "execute_result"
    }
   ],
   "source": [
    "X_test.shape"
   ]
  },
  {
   "cell_type": "code",
   "execution_count": 7,
   "id": "8ff77902",
   "metadata": {
    "execution": {
     "iopub.execute_input": "2024-04-20T10:28:07.043037Z",
     "iopub.status.busy": "2024-04-20T10:28:07.042628Z",
     "iopub.status.idle": "2024-04-20T10:29:11.100971Z",
     "shell.execute_reply": "2024-04-20T10:29:11.099823Z"
    },
    "papermill": {
     "duration": 64.069356,
     "end_time": "2024-04-20T10:29:11.107298",
     "exception": false,
     "start_time": "2024-04-20T10:28:07.037942",
     "status": "completed"
    },
    "tags": []
   },
   "outputs": [
    {
     "data": {
      "text/plain": [
       "0"
      ]
     },
     "execution_count": 7,
     "metadata": {},
     "output_type": "execute_result"
    }
   ],
   "source": [
    "X_test = vector.transform(X_test)\n",
    "gc.collect()"
   ]
  },
  {
   "cell_type": "code",
   "execution_count": 8,
   "id": "610fe8d1",
   "metadata": {
    "execution": {
     "iopub.execute_input": "2024-04-20T10:29:11.117443Z",
     "iopub.status.busy": "2024-04-20T10:29:11.117066Z",
     "iopub.status.idle": "2024-04-20T10:29:11.465105Z",
     "shell.execute_reply": "2024-04-20T10:29:11.464050Z"
    },
    "papermill": {
     "duration": 0.35748,
     "end_time": "2024-04-20T10:29:11.468979",
     "exception": false,
     "start_time": "2024-04-20T10:29:11.111499",
     "status": "completed"
    },
    "tags": []
   },
   "outputs": [],
   "source": [
    "Y_pred=model.predict(X_test)"
   ]
  },
  {
   "cell_type": "code",
   "execution_count": 9,
   "id": "2655919b",
   "metadata": {
    "execution": {
     "iopub.execute_input": "2024-04-20T10:29:11.478679Z",
     "iopub.status.busy": "2024-04-20T10:29:11.478298Z",
     "iopub.status.idle": "2024-04-20T10:29:18.832036Z",
     "shell.execute_reply": "2024-04-20T10:29:18.830564Z"
    },
    "papermill": {
     "duration": 7.361593,
     "end_time": "2024-04-20T10:29:18.834424",
     "exception": false,
     "start_time": "2024-04-20T10:29:11.472831",
     "status": "completed"
    },
    "tags": []
   },
   "outputs": [
    {
     "name": "stdout",
     "output_type": "stream",
     "text": [
      "Accuracy score: 0.71\n",
      "F1 score: 0.83\n",
      "Precision score: 0.71\n",
      "Recall score: 1.0\n"
     ]
    }
   ],
   "source": [
    "acc_lg=round(accuracy_score(Y_test, Y_pred), 2)\n",
    "f1_lg=round(f1_score(Y_test, Y_pred, average=\"binary\", pos_label=\"fake\"), 2)\n",
    "precision_lg=round(precision_score(Y_test, Y_pred, average=\"binary\", pos_label=\"fake\"), 2)\n",
    "recall_lg=round(recall_score(Y_test, Y_pred, average=\"binary\", pos_label=\"fake\"), 2)\n",
    "print(f'Accuracy score: {acc_lg}')\n",
    "print(f'F1 score: {f1_lg}')\n",
    "print(f'Precision score: {precision_lg}')\n",
    "print(f'Recall score: {recall_lg}')"
   ]
  }
 ],
 "metadata": {
  "kaggle": {
   "accelerator": "none",
   "dataSources": [
    {
     "datasetId": 4809434,
     "sourceId": 8135831,
     "sourceType": "datasetVersion"
    }
   ],
   "dockerImageVersionId": 30673,
   "isGpuEnabled": false,
   "isInternetEnabled": true,
   "language": "python",
   "sourceType": "notebook"
  },
  "kernelspec": {
   "display_name": "Python 3",
   "language": "python",
   "name": "python3"
  },
  "language_info": {
   "codemirror_mode": {
    "name": "ipython",
    "version": 3
   },
   "file_extension": ".py",
   "mimetype": "text/x-python",
   "name": "python",
   "nbconvert_exporter": "python",
   "pygments_lexer": "ipython3",
   "version": "3.10.13"
  },
  "papermill": {
   "default_parameters": {},
   "duration": 690.898423,
   "end_time": "2024-04-20T10:29:20.163314",
   "environment_variables": {},
   "exception": null,
   "input_path": "__notebook__.ipynb",
   "output_path": "__notebook__.ipynb",
   "parameters": {},
   "start_time": "2024-04-20T10:17:49.264891",
   "version": "2.5.0"
  }
 },
 "nbformat": 4,
 "nbformat_minor": 5
}
